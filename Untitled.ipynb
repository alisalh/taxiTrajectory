{
 "cells": [
  {
   "cell_type": "code",
   "execution_count": 3,
   "metadata": {
    "collapsed": false,
    "deletable": true,
    "editable": true
   },
   "outputs": [
    {
     "name": "stderr",
     "output_type": "stream",
     "text": [
      "/usr/local/lib/python3.5/dist-packages/psycopg2/__init__.py:144: UserWarning: The psycopg2 wheel package will be renamed from release 2.8; in order to keep installing from binary please use \"pip install psycopg2-binary\" instead. For details see: <http://initd.org/psycopg/docs/install.html#binary-install-from-pypi>.\n",
      "  \"\"\")\n"
     ]
    }
   ],
   "source": [
    "import psycopg2"
   ]
  },
  {
   "cell_type": "code",
   "execution_count": 4,
   "metadata": {
    "collapsed": true,
    "deletable": true,
    "editable": true
   },
   "outputs": [],
   "source": [
    "def generate_placeholder(length, width):\n",
    "    \"\"\"\n",
    "    Generate \"(%s, %s, %s, ...), ...\" for placing parameters.\n",
    "    \"\"\"\n",
    "    return ','.join('(' + ','.join(['%s'] * width) + ')' for _ in range(length))\n",
    "\n",
    "\n",
    "def create_sequence_subquery(length, columns):\n",
    "    \"\"\"Create a subquery for sequence.\"\"\"\n",
    "    placeholder = generate_placeholder(length, len(columns))\n",
    "    subquery = 'WITH sequence {columns} AS (VALUES {placeholder})'.format(\n",
    "        columns='(' + ','.join(columns) + ')',\n",
    "        placeholder=placeholder)\n",
    "    return subquery\n"
   ]
  },
  {
   "cell_type": "code",
   "execution_count": 12,
   "metadata": {
    "collapsed": false,
    "deletable": true,
    "editable": true
   },
   "outputs": [],
   "source": [
    "sequence = [[103.903, 30.552]]\n",
    "subquery = create_sequence_subquery(len(sequence), ('lon', 'lat'))\n",
    "road_table_name = 'ways'\n",
    "stmt = subquery + '''\n",
    "SELECT edge.gid, edge.source, edge.target, edge.length * 1000, edge.length * 1000, name\n",
    "FROM {road_table_name} AS edge\n",
    "     CROSS JOIN (SELECT ST_Extent(ST_MakePoint(sequence.lon, sequence.lat))::geometry AS extent FROM sequence) AS extent\n",
    "WHERE edge.the_geom && ST_Envelope(ST_Buffer(extent.extent::geography, %s)::geometry)\n",
    "'''.format(road_table_name=road_table_name)\n",
    "    \n"
   ]
  },
  {
   "cell_type": "code",
   "execution_count": 13,
   "metadata": {
    "collapsed": false,
    "deletable": true,
    "editable": true
   },
   "outputs": [
    {
     "name": "stdout",
     "output_type": "stream",
     "text": [
      "银河路四段\n",
      "45987\n",
      "银河路四段\n",
      "26325\n"
     ]
    }
   ],
   "source": [
    "conn = psycopg2.connect(\"host=localhost port=5432 dbname=routing5 user=postgres password=yan19910131\")\n",
    "search_radius = 30\n",
    "params = sum([[lon, lat] for lon, lat in sequence], [])\n",
    "params.append(search_radius)\n",
    "cur = conn.cursor()\n",
    "#print(stmt)\n",
    "cur.execute(stmt, params)\n",
    "for gid, source, target, cost, reverse_cost, name in cur.fetchall():\n",
    "    print(name)\n",
    "    print(source)"
   ]
  },
  {
   "cell_type": "code",
   "execution_count": 11,
   "metadata": {
    "collapsed": false,
    "deletable": true,
    "editable": true
   },
   "outputs": [],
   "source": [
    "subquery = create_sequence_subquery(len(sequence), ('id', 'lon', 'lat'))\n",
    "\n",
    "subquery = subquery + ',' + '''\n",
    "--- WITH sequence AS (subquery here),\n",
    "seq AS (SELECT *,\n",
    "               ST_SetSRID(ST_MakePoint(sequence.lon, sequence.lat), 4326) AS geom,\n",
    "               ST_SetSRID(ST_MakePoint(sequence.lon, sequence.lat), 4326)::geography AS geog\n",
    "    FROM sequence)\n",
    "'''\n",
    "\n",
    "stmt = subquery + '''\n",
    "SELECT seq.id, seq.lon, seq.lat,\n",
    "       --- Edge information\n",
    "       edge.gid, edge.source, edge.target,\n",
    "       edge.length, edge.length,\n",
    "       --- Location, a float between 0 and 1 representing the location of the closest point on the edge to the measurement.\n",
    "       ST_LineLocatePoint(edge.the_geom, seq.geom) AS location,\n",
    "       --- Distance in meters from the measurement to its candidate's location\n",
    "       ST_Distance(seq.geog, edge.the_geom::geography) AS distance,\n",
    "       --- Candidate's location (a position along the edge)\n",
    "       ST_X(ST_ClosestPoint(edge.the_geom, seq.geom)) AS clon,\n",
    "       ST_Y(ST_ClosestPoint(edge.the_geom, seq.geom)) AS clat\n",
    "FROM seq CROSS JOIN {road_table_name} AS edge\n",
    "WHERE edge.the_geom && ST_Envelope(ST_Buffer(seq.geog, %s)::geometry)\n",
    "      AND ST_DWithin(seq.geog, edge.the_geom::geography, %s)\n",
    "'''.format(road_table_name=road_table_name)\n",
    "\n",
    "# Aggregate and flatten params\n",
    "params = sum([[idx, lon, lat] for idx, (lon, lat) in enumerate(sequence)], [])\n",
    "params.append(search_radius)\n",
    "params.append(search_radius)\n",
    "\n",
    "cur = conn.cursor()\n",
    "cur.execute(stmt, params)\n",
    "\n",
    "for mid, mlon, mlat, \\\n",
    "    eid, source, target, cost, reverse_cost, \\\n",
    "    location, distance, \\\n",
    "    clon, clat in cur:\n",
    "\n",
    "\n",
    "\n",
    "    print(clon, clat, mlon, mlat)"
   ]
  },
  {
   "cell_type": "code",
   "execution_count": null,
   "metadata": {
    "collapsed": true,
    "deletable": true,
    "editable": true
   },
   "outputs": [],
   "source": []
  },
  {
   "cell_type": "code",
   "execution_count": null,
   "metadata": {
    "collapsed": true,
    "deletable": true,
    "editable": true
   },
   "outputs": [],
   "source": []
  }
 ],
 "metadata": {
  "kernelspec": {
   "display_name": "Python 3",
   "language": "python",
   "name": "python3"
  },
  "language_info": {
   "codemirror_mode": {
    "name": "ipython",
    "version": 3
   },
   "file_extension": ".py",
   "mimetype": "text/x-python",
   "name": "python",
   "nbconvert_exporter": "python",
   "pygments_lexer": "ipython3",
   "version": "3.5.2"
  }
 },
 "nbformat": 4,
 "nbformat_minor": 2
}
